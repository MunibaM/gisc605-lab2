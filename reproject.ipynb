{
 "cells": [
  {
   "cell_type": "code",
   "execution_count": null,
   "metadata": {},
   "outputs": [],
   "source": [
    "import os\n",
    "import numpy as np\n",
    "import matplotlib.pyplot as plt\n",
    "import seaborn as sns\n",
    "import geopandas as gpd\n",
    "import earthpy as et\n",
    "\n",
    "# Setting plotting style for the notebook\n",
    "sns.set_style(\"white\")\n",
    "sns.set(font_scale=1.5)\n",
    "\n",
    "# Set working dir & get data\n",
    "data = et.data.get_data('spatial-vector-lidar')\n",
    "os.chdir(os.path.join(et.io.HOME, 'earth-analytics'))"
   ]
  },
  {
   "cell_type": "code",
   "execution_count": null,
   "metadata": {},
   "outputs": [],
   "source": [
    "# Import the data\n",
    "sjer_roads_path = os.path.join(\"data\", \"spatial-vector-lidar\", \"california\", \n",
    "                               \"madera-county-roads\", \"tl_2013_06039_roads.shp\")\n",
    "sjer_roads = gpd.read_file(sjer_roads_path)\n",
    "\n",
    "# aoi stands for area of interest\n",
    "sjer_aoi_path = os.path.join(\"data\", \"spatial-vector-lidar\", \"california\", \n",
    "                             \"neon-sjer-site\", \"vector_data\", \"SJER_crop.shp\")\n",
    "sjer_aoi = gpd.read_file(sjer_aoi_path)\n",
    "\n",
    "# View the Coordinate Reference System of both layers \n",
    "print(sjer_roads.crs)\n",
    "print(sjer_aoi.crs)"
   ]
  },
  {
   "cell_type": "code",
   "execution_count": null,
   "metadata": {},
   "outputs": [],
   "source": [
    "# Reproject the aoi to match the roads layer\n",
    "sjer_aoi_wgs84  = sjer_aoi.to_crs(epsg=4269)"
   ]
  },
  {
   "cell_type": "code",
   "execution_count": null,
   "metadata": {},
   "outputs": [],
   "source": [
    "# Plot the data\n",
    "fig, ax = plt.subplots(figsize=(12, 8))\n",
    "\n",
    "sjer_roads.plot(cmap='Greys', ax=ax, alpha=.5)\n",
    "sjer_aoi_wgs84.plot(ax=ax, markersize=10, color='r')\n",
    "\n",
    "ax.set_title(\"Madera County Roads with SJER AOI\");"
   ]
  },
  {
   "cell_type": "code",
   "execution_count": null,
   "metadata": {},
   "outputs": [],
   "source": [
    "# Import data into geopandas dataframe\n",
    "state_boundary_us_path = os.path.join(\"data\", \"spatial-vector-lidar\", \n",
    "                                      \"usa\", \"usa-states-census-2014.shp\")\n",
    "state_boundary_us = gpd.read_file(state_boundary_us_path)\n",
    "\n",
    "# View data structure\n",
    "type(state_boundary_us)"
   ]
  },
  {
   "cell_type": "code",
   "execution_count": null,
   "metadata": {},
   "outputs": [],
   "source": [
    "# View the first few lines of the data\n",
    "state_boundary_us.head()"
   ]
  },
  {
   "cell_type": "code",
   "execution_count": null,
   "metadata": {},
   "outputs": [],
   "source": [
    "# Plot the data\n",
    "fig, ax = plt.subplots(figsize = (12,8))\n",
    "state_boundary_us.plot(ax = ax, facecolor = 'white', edgecolor = 'black')\n",
    "\n",
    "# Add title to map\n",
    "ax.set(title=\"Map of Continental US State Boundaries\\n United States Census Bureau Data\")\n",
    "\n",
    "# Turn off the axis  \n",
    "plt.axis('equal')\n",
    "ax.set_axis_off()\n",
    "\n",
    "plt.show()"
   ]
  },
  {
   "cell_type": "code",
   "execution_count": null,
   "metadata": {},
   "outputs": [],
   "source": [
    "# Import United States country boundary data\n",
    "county_boundary_us_path = os.path.join(\"data\", \"spatial-vector-lidar\", \n",
    "                                       \"usa\", \"usa-boundary-dissolved.shp\")\n",
    "country_boundary_us = gpd.read_file(county_boundary_us_path)\n",
    "\n",
    "type(country_boundary_us)"
   ]
  },
  {
   "cell_type": "code",
   "execution_count": null,
   "metadata": {},
   "outputs": [],
   "source": [
    "# Plot data \n",
    "fig, ax = plt.subplots(figsize = (12,7))\n",
    "country_boundary_us.plot(ax=ax, \n",
    "                         alpha=1, \n",
    "                         edgecolor=\"black\",\n",
    "                         color = \"white\",\n",
    "                         linewidth=4)\n",
    "\n",
    "state_boundary_us.plot(ax = ax, \n",
    "                      color = \"indigo\",\n",
    "                      edgecolor = \"white\",\n",
    "                      linewidth = 1)\n",
    "ax.set_axis_off()\n",
    "plt.show()"
   ]
  },
  {
   "cell_type": "code",
   "execution_count": null,
   "metadata": {},
   "outputs": [],
   "source": [
    "# Plot the data\n",
    "fig, ax = plt.subplots(figsize = (6,6))\n",
    "\n",
    "sjer_aoi.plot(ax=ax, color = \"indigo\")\n",
    "ax.set(title='San Joachin Experimental Range \\n Area of interest (AOI)')\n",
    "\n",
    "ax.set_axis_off()\n",
    "plt.show()"
   ]
  },
  {
   "cell_type": "code",
   "execution_count": null,
   "metadata": {},
   "outputs": [],
   "source": [
    "fig, ax = plt.subplots(figsize=(6, 6))\n",
    "\n",
    "country_boundary_us.plot(ax=ax, \n",
    "                         edgecolor=\"black\",\n",
    "                         color = \"white\",\n",
    "                         linewidth=3, \n",
    "                         alpha=.8)\n",
    "\n",
    "state_boundary_us.plot(ax = ax, \n",
    "                       color = \"white\", \n",
    "                       edgecolor =\"gray\")\n",
    "sjer_aoi.plot(ax=ax, color = \"indigo\")\n",
    "\n",
    "# Turn off axis  \n",
    "ax.set_axis_off()\n",
    "plt.show()"
   ]
  },
  {
   "cell_type": "code",
   "execution_count": null,
   "metadata": {},
   "outputs": [],
   "source": [
    "# View CRS of each layer\n",
    "print(sjer_aoi.crs)\n",
    "print(country_boundary_us.crs)\n",
    "print(state_boundary_us.crs)"
   ]
  },
  {
   "cell_type": "code",
   "execution_count": null,
   "metadata": {},
   "outputs": [],
   "source": [
    "# View spatial extent for both layers \n",
    "print(sjer_aoi.total_bounds)\n",
    "print(state_boundary_us.total_bounds)"
   ]
  },
  {
   "cell_type": "code",
   "execution_count": null,
   "metadata": {},
   "outputs": [],
   "source": [
    "# Reproject the aoi to the same CRS as the state_boundary_use object\n",
    "sjer_aoi_WGS84 = sjer_aoi.to_crs(state_boundary_us.crs)\n",
    "\n",
    "# View CRS of new reprojected layer\n",
    "print(sjer_aoi.total_bounds)\n",
    "print('sjer_aoi crs: ', sjer_aoi_WGS84.crs)\n",
    "print('state boundary crs:', state_boundary_us.crs)"
   ]
  },
  {
   "cell_type": "code",
   "execution_count": null,
   "metadata": {},
   "outputs": [],
   "source": [
    "# Reproject using the full proj.4 string copied from spatial reference.org\n",
    "sjer_aoi_WGS84_2 = sjer_aoi.to_crs(\"+proj=longlat +ellps=WGS84 +datum=WGS84 +no_defs\")"
   ]
  },
  {
   "cell_type": "code",
   "execution_count": null,
   "metadata": {},
   "outputs": [],
   "source": [
    "fig, ax = plt.subplots(figsize = (12,8))\n",
    "\n",
    "state_boundary_us.plot(ax = ax,\n",
    "                      linewidth=1,\n",
    "                      edgecolor=\"black\")\n",
    "\n",
    "country_boundary_us.plot(ax=ax,\n",
    "                         alpha=.5, \n",
    "                         edgecolor=\"black\",\n",
    "                         color = \"white\",\n",
    "                         linewidth=3)\n",
    "sjer_aoi_WGS84.plot(ax=ax, \n",
    "                    color='springgreen',\n",
    "                   edgecolor = \"r\")\n",
    "\n",
    "ax.set(title=\"Map of Continental US State Boundaries \\n with SJER AOI\")\n",
    "\n",
    "ax.set_axis_off()\n",
    "plt.show()"
   ]
  },
  {
   "cell_type": "code",
   "execution_count": null,
   "metadata": {},
   "outputs": [],
   "source": [
    "# Zoom in on just the area \n",
    "fig, ax = plt.subplots(figsize = (12,8))\n",
    "\n",
    "state_boundary_us.plot(ax = ax,\n",
    "                      linewidth=1,\n",
    "                      edgecolor=\"black\")\n",
    "\n",
    "country_boundary_us.plot(ax=ax,\n",
    "                         alpha=.5, \n",
    "                         edgecolor=\"black\",\n",
    "                         color = \"white\",\n",
    "                         linewidth=3)\n",
    "\n",
    "sjer_aoi_WGS84.plot(ax=ax, \n",
    "                    color='springgreen',\n",
    "                   edgecolor = \"r\")\n",
    "\n",
    "ax.set(title=\"Map of Continental US State Boundaries \\n with SJER AOI\")\n",
    "ax.set(xlim=[-125, -116], ylim=[35, 40])\n",
    "\n",
    "# Turn off axis  \n",
    "ax.set(xticks = [], yticks = []);"
   ]
  },
  {
   "cell_type": "code",
   "execution_count": null,
   "metadata": {},
   "outputs": [],
   "source": [
    "sjer_aoi_WGS84[\"geometry\"].centroid.plot();"
   ]
  },
  {
   "cell_type": "code",
   "execution_count": null,
   "metadata": {},
   "outputs": [],
   "source": [
    "fig, ax = plt.subplots(figsize = (12,7))\n",
    "\n",
    "state_boundary_us.plot(ax = ax,\n",
    "                      linewidth=1,\n",
    "                      edgecolor=\"black\")\n",
    "\n",
    "country_boundary_us.plot(ax=ax,\n",
    "                         alpha=.7, \n",
    "                         edgecolor=\"black\",\n",
    "                         color = \"white\",\n",
    "                         linewidth=3)\n",
    "\n",
    "AOI_point.plot(ax=ax,\n",
    "              markersize=80,\n",
    "              color='purple',\n",
    "              marker='*')\n",
    "\n",
    "ax.set(title=\"Map of Continental US State Boundaries \\n with SJER AOI\")\n",
    "\n",
    "# Turn off axis  \n",
    "ax.set_axis_off();"
   ]
  },
  {
   "cell_type": "code",
   "execution_count": null,
   "metadata": {},
   "outputs": [],
   "source": []
  }
 ],
 "metadata": {
  "language_info": {
   "name": "python"
  }
 },
 "nbformat": 4,
 "nbformat_minor": 2
}
