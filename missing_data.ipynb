{
 "cells": [
  {
   "cell_type": "code",
   "execution_count": null,
   "metadata": {},
   "outputs": [],
   "source": [
    "import os\n",
    "import numpy as np\n",
    "import pandas as pd\n",
    "import geopandas as gpd\n",
    "import earthpy as et \n",
    "\n",
    "# Set working dir & get data\n",
    "data = et.data.get_data('spatial-vector-lidar')\n",
    "os.chdir(os.path.join(et.io.HOME, 'earth-analytics'))"
   ]
  },
  {
   "cell_type": "code",
   "execution_count": null,
   "metadata": {},
   "outputs": [],
   "source": [
    "# Import roads shapefile\n",
    "sjer_roads_path = os.path.join(\"data\", \"spatial-vector-lidar\", \"california\", \n",
    "                               \"madera-county-roads\", \"tl_2013_06039_roads.shp\")\n",
    "sjer_roads = gpd.read_file(sjer_roads_path)\n",
    "\n",
    "type(sjer_roads)"
   ]
  },
  {
   "cell_type": "code",
   "execution_count": null,
   "metadata": {},
   "outputs": [],
   "source": [
    "sjer_roads.isnull().sum()"
   ]
  },
  {
   "cell_type": "code",
   "execution_count": null,
   "metadata": {},
   "outputs": [],
   "source": [
    "# View data type \n",
    "print(type(sjer_roads['RTTYP']))\n",
    "\n",
    "# View unique attributes for each road in the data\n",
    "print(sjer_roads['RTTYP'].unique())"
   ]
  },
  {
   "cell_type": "code",
   "execution_count": null,
   "metadata": {},
   "outputs": [],
   "source": [
    "# Map each value to a new value \n",
    "sjer_roads[\"RTTYP\"] = sjer_roads[\"RTTYP\"].fillna(\"Unknown\")\n",
    "print(sjer_roads['RTTYP'].unique())"
   ]
  },
  {
   "cell_type": "code",
   "execution_count": null,
   "metadata": {},
   "outputs": [],
   "source": [
    "sjer_roads.head()"
   ]
  },
  {
   "cell_type": "code",
   "execution_count": null,
   "metadata": {},
   "outputs": [],
   "source": []
  }
 ],
 "metadata": {
  "language_info": {
   "name": "python"
  }
 },
 "nbformat": 4,
 "nbformat_minor": 2
}
