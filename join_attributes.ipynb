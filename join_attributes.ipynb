{
 "cells": [
  {
   "cell_type": "code",
   "execution_count": 1,
   "metadata": {},
   "outputs": [
    {
     "ename": "ModuleNotFoundError",
     "evalue": "No module named 'shapely'",
     "output_type": "error",
     "traceback": [
      "\u001b[0;31m---------------------------------------------------------------------------\u001b[0m",
      "\u001b[0;31mModuleNotFoundError\u001b[0m                       Traceback (most recent call last)",
      "Cell \u001b[0;32mIn[1], line 8\u001b[0m\n\u001b[1;32m      6\u001b[0m \u001b[38;5;28;01mimport\u001b[39;00m \u001b[38;5;21;01mnumpy\u001b[39;00m \u001b[38;5;28;01mas\u001b[39;00m \u001b[38;5;21;01mnp\u001b[39;00m\n\u001b[1;32m      7\u001b[0m \u001b[38;5;28;01mimport\u001b[39;00m \u001b[38;5;21;01mpandas\u001b[39;00m \u001b[38;5;28;01mas\u001b[39;00m \u001b[38;5;21;01mpd\u001b[39;00m\n\u001b[0;32m----> 8\u001b[0m \u001b[38;5;28;01mfrom\u001b[39;00m \u001b[38;5;21;01mshapely\u001b[39;00m\u001b[38;5;21;01m.\u001b[39;00m\u001b[38;5;21;01mgeometry\u001b[39;00m \u001b[38;5;28;01mimport\u001b[39;00m box\n\u001b[1;32m      9\u001b[0m \u001b[38;5;28;01mimport\u001b[39;00m \u001b[38;5;21;01mgeopandas\u001b[39;00m \u001b[38;5;28;01mas\u001b[39;00m \u001b[38;5;21;01mgpd\u001b[39;00m\n\u001b[1;32m     10\u001b[0m \u001b[38;5;28;01mimport\u001b[39;00m \u001b[38;5;21;01mearthpy\u001b[39;00m \u001b[38;5;28;01mas\u001b[39;00m \u001b[38;5;21;01met\u001b[39;00m\n",
      "\u001b[0;31mModuleNotFoundError\u001b[0m: No module named 'shapely'"
     ]
    }
   ],
   "source": [
    "# Import libraries\n",
    "import os\n",
    "import matplotlib.pyplot as plt\n",
    "import matplotlib.lines as mlines\n",
    "from matplotlib.colors import ListedColormap\n",
    "import numpy as np\n",
    "import pandas as pd\n",
    "from shapely.geometry import box\n",
    "import geopandas as gpd\n",
    "import earthpy as et\n",
    "\n",
    "# Set working dir & get data\n",
    "data = et.data.get_data('spatial-vector-lidar')\n",
    "os.chdir(os.path.join(et.io.HOME, 'earth-analytics'))"
   ]
  },
  {
   "cell_type": "code",
   "execution_count": null,
   "metadata": {},
   "outputs": [],
   "source": [
    "# Import data\n",
    "data_path = os.path.join(\"data/spatial-vector-lidar\")\n",
    "\n",
    "country_bound_us = gpd.read_file(os.path.join(data_path, \"usa\", \n",
    "                                              \"usa-boundary-dissolved.shp\"))\n",
    "                                 \n",
    "state_bound_us = gpd.read_file(os.path.join(data_path, \"usa\", \n",
    "                                            \"usa-states-census-2014.shp\"))\n",
    "                               \n",
    "pop_places = gpd.read_file(os.path.join(data_path, \"global\", \n",
    "                                        \"ne_110m_populated_places_simple\", \n",
    "                                        \"ne_110m_populated_places_simple.shp\"))\n",
    "                                        \n",
    "ne_roads = gpd.read_file(os.path.join(data_path, \"global\", \n",
    "                                      \"ne_10m_roads\", \"ne_10m_roads.shp\"))"
   ]
  },
  {
   "cell_type": "code",
   "execution_count": null,
   "metadata": {},
   "outputs": [],
   "source": [
    "# Simplify the country boundary just a little bit to make this run faster\n",
    "country_bound_us_simp = country_bound_us.simplify(.2, preserve_topology=True)\n",
    "\n",
    "# Clip the roads to the US boundary - this will take about a minute to execute\n",
    "roads_cl = gpd.clip(ne_roads, country_bound_us_simp)\n",
    "roads_cl.crs = ne_roads.crs\n",
    "\n",
    "# Dissolve states by region\n",
    "regions_agg = state_bound_us.dissolve(by=\"region\")"
   ]
  },
  {
   "cell_type": "code",
   "execution_count": null,
   "metadata": {},
   "outputs": [],
   "source": [
    "# Roads within region\n",
    "roads_region = gpd.sjoin(roads_cl, \n",
    "                         regions_agg, \n",
    "                         how=\"inner\", \n",
    "                         op='intersects')\n",
    "\n",
    "# Notice once you have joins the data - you have attributes \n",
    "# from the regions_object (i.e. the region) attached to each road feature\n",
    "roads_region[[\"featurecla\", \"index_right\", \"ALAND\"]].head()"
   ]
  },
  {
   "cell_type": "code",
   "execution_count": null,
   "metadata": {},
   "outputs": [],
   "source": [
    "# Reproject to Albers for plotting\n",
    "country_albers = country_bound_us.to_crs({'init': 'epsg:5070'})\n",
    "roads_albers = roads_region.to_crs({'init': 'epsg:5070'})"
   ]
  },
  {
   "cell_type": "code",
   "execution_count": null,
   "metadata": {},
   "outputs": [],
   "source": [
    "# Plot the data\n",
    "fig, ax = plt.subplots(figsize=(12, 8))\n",
    "\n",
    "country_albers.plot(alpha=1,\n",
    "                    facecolor=\"none\",\n",
    "                    edgecolor=\"black\",\n",
    "                    zorder=10,\n",
    "                    ax=ax)\n",
    "\n",
    "roads_albers.plot(column='index_right',\n",
    "                  ax=ax,\n",
    "                  legend=True)\n",
    "\n",
    "# Adjust legend location\n",
    "leg = ax.get_legend()\n",
    "leg.set_bbox_to_anchor((1.15,1))\n",
    "\n",
    "ax.set_axis_off()\n",
    "plt.axis('equal')\n",
    "plt.show()"
   ]
  },
  {
   "cell_type": "code",
   "execution_count": null,
   "metadata": {},
   "outputs": [],
   "source": [
    "# First, create a dictionary with the attributes of each legend item\n",
    "road_attrs = {'Midwest': ['black'],\n",
    "              'Northeast': ['grey'],\n",
    "              'Southeast': ['m'],\n",
    "              'Southwest': ['purple'],\n",
    "              'West': ['green']}\n",
    "\n",
    "# Plot the data\n",
    "fig, ax = plt.subplots(figsize=(12, 8))\n",
    "\n",
    "regions_agg.plot(edgecolor=\"black\",\n",
    "                 ax=ax)\n",
    "country_albers.plot(alpha=1,\n",
    "                    facecolor=\"none\",\n",
    "                    edgecolor=\"black\",\n",
    "                    zorder=10,\n",
    "                    ax=ax)\n",
    "\n",
    "for ctype, data in roads_albers.groupby('index_right'):\n",
    "    data.plot(color=road_attrs[ctype][0],\n",
    "              label=ctype,\n",
    "              ax=ax)\n",
    "    \n",
    "# This approach works to place the legend when you have defined labels\n",
    "plt.legend(bbox_to_anchor=(1.0, 1), loc=2)\n",
    "ax.set_axis_off()\n",
    "plt.axis('equal')\n",
    "plt.show()"
   ]
  },
  {
   "cell_type": "code",
   "execution_count": null,
   "metadata": {},
   "outputs": [],
   "source": [
    "# Turn off scientific notation\n",
    "pd.options.display.float_format = '{:.4f}'.format\n",
    "\n",
    "# Calculate the total length of road \n",
    "road_albers_length = roads_albers[['index_right', 'length_km']]\n",
    "\n",
    "# Sum existing columns\n",
    "roads_albers.groupby('index_right').sum()\n",
    "\n",
    "roads_albers['rdlength'] = roads_albers.length\n",
    "sub = roads_albers[['rdlength', 'index_right']].groupby('index_right').sum()\n",
    "sub"
   ]
  },
  {
   "cell_type": "code",
   "execution_count": null,
   "metadata": {},
   "outputs": [],
   "source": []
  }
 ],
 "metadata": {
  "kernelspec": {
   "display_name": "Python 3",
   "language": "python",
   "name": "python3"
  },
  "language_info": {
   "codemirror_mode": {
    "name": "ipython",
    "version": 3
   },
   "file_extension": ".py",
   "mimetype": "text/x-python",
   "name": "python",
   "nbconvert_exporter": "python",
   "pygments_lexer": "ipython3",
   "version": "3.10.13"
  }
 },
 "nbformat": 4,
 "nbformat_minor": 2
}
