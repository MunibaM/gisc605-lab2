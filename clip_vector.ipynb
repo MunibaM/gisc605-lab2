{
 "cells": [
  {
   "cell_type": "code",
   "execution_count": null,
   "metadata": {},
   "outputs": [],
   "source": [
    "# Import libraries\n",
    "import os\n",
    "import numpy as np\n",
    "import matplotlib.pyplot as plt\n",
    "import matplotlib.lines as mlines\n",
    "from matplotlib.colors import ListedColormap\n",
    "import geopandas as gpd\n",
    "\n",
    "# Load the box module from shapely to create box objects\n",
    "from shapely.geometry import box\n",
    "import earthpy as et\n",
    "import seaborn as sns\n",
    "\n",
    "# Ignore warning about missing/empty geometries\n",
    "import warnings\n",
    "warnings.filterwarnings('ignore', 'GeoSeries.notna', UserWarning)\n",
    "\n",
    "# Adjust plot font sizes\n",
    "sns.set(font_scale=1.5)\n",
    "sns.set_style(\"white\")\n",
    "\n",
    "# Set working dir & get data\n",
    "data = et.data.get_data('spatial-vector-lidar')\n",
    "os.chdir(os.path.join(et.io.HOME, 'earth-analytics'))"
   ]
  },
  {
   "cell_type": "code",
   "execution_count": null,
   "metadata": {},
   "outputs": [],
   "source": [
    "# Import all of your data at the top of your notebook to keep things organized.\n",
    "country_boundary_us_path = os.path.join(\"data\", \"spatial-vector-lidar\", \n",
    "                                        \"usa\", \"usa-boundary-dissolved.shp\")\n",
    "country_boundary_us = gpd.read_file(country_boundary_us_path)\n",
    "\n",
    "state_boundary_us_path = os.path.join(\"data\", \"spatial-vector-lidar\", \n",
    "                                      \"usa\", \"usa-states-census-2014.shp\")\n",
    "state_boundary_us = gpd.read_file(state_boundary_us_path)\n",
    "\n",
    "pop_places_path = os.path.join(\"data\", \"spatial-vector-lidar\", \"global\", \n",
    "                               \"ne_110m_populated_places_simple\", \"ne_110m_populated_places_simple.shp\")\n",
    "pop_places = gpd.read_file(pop_places_path)\n",
    "\n",
    "# Are the data all in the same crs?\n",
    "print(\"country_boundary_us\", country_boundary_us.crs)\n",
    "print(\"state_boundary_us\", state_boundary_us.crs)\n",
    "print(\"pop_places\", pop_places.crs)"
   ]
  },
  {
   "cell_type": "code",
   "execution_count": null,
   "metadata": {},
   "outputs": [],
   "source": [
    "# Plot the data\n",
    "fig, ax = plt.subplots(figsize=(12, 8))\n",
    "\n",
    "country_boundary_us.plot(alpha=.5,\n",
    "                         ax=ax)\n",
    "\n",
    "state_boundary_us.plot(cmap='Greys',\n",
    "                       ax=ax,\n",
    "                       alpha=.5)\n",
    "pop_places.plot(ax=ax)\n",
    "\n",
    "plt.axis('equal')\n",
    "ax.set_axis_off()\n",
    "plt.show()"
   ]
  },
  {
   "cell_type": "code",
   "execution_count": null,
   "metadata": {},
   "outputs": [],
   "source": [
    "# Clip the data using GeoPandas clip\n",
    "points_clip = gpd.clip(pop_places, country_boundary_us)\n",
    "\n",
    "# View the first 6 rows and a few select columns\n",
    "points_clip[['name', 'geometry', 'scalerank', 'natscale', ]].head()"
   ]
  },
  {
   "cell_type": "code",
   "execution_count": null,
   "metadata": {},
   "outputs": [],
   "source": [
    "# Plot the data\n",
    "fig, ax = plt.subplots(figsize=(12, 8))\n",
    "\n",
    "country_boundary_us.plot(alpha=1,\n",
    "                         color=\"white\",\n",
    "                         edgecolor=\"black\",\n",
    "                         ax=ax)\n",
    "\n",
    "state_boundary_us.plot(cmap='Greys',\n",
    "                       ax=ax,\n",
    "                       alpha=.5)\n",
    "\n",
    "points_clip.plot(ax=ax,\n",
    "                 column='name')\n",
    "ax.set_axis_off()\n",
    "plt.axis('equal')\n",
    "\n",
    "# Label each point - note this is just shown here optionally but is not required for your homework\n",
    "points_clip.apply(lambda x: ax.annotate(s=x['name'],\n",
    "                                        xy=x.geometry.coords[0],\n",
    "                                        xytext=(6, 6), textcoords=\"offset points\",\n",
    "                                        backgroundcolor=\"white\"),\n",
    "                  axis=1)\n",
    "plt.show()"
   ]
  },
  {
   "cell_type": "code",
   "execution_count": null,
   "metadata": {},
   "outputs": [],
   "source": [
    "# Open the roads layer\n",
    "ne_roads_path = os.path.join(\"data\", \"spatial-vector-lidar\", \"global\", \n",
    "                             \"ne_10m_roads\", \"ne_10m_roads.shp\")\n",
    "ne_roads = gpd.read_file(ne_roads_path)\n",
    "\n",
    "# Are both layers in the same CRS?\n",
    "if (ne_roads.crs == country_boundary_us.crs):\n",
    "    print(\"Both layers are in the same crs!\",\n",
    "          ne_roads.crs, country_boundary_us.crs)"
   ]
  },
  {
   "cell_type": "code",
   "execution_count": null,
   "metadata": {},
   "outputs": [],
   "source": [
    "# Simplify the geometry of the clip extent for faster processing\n",
    "# Use this with caution as it modifies your data.\n",
    "country_boundary_us_sim = country_boundary_us.simplify(\n",
    "    .2, preserve_topology=True)"
   ]
  },
  {
   "cell_type": "code",
   "execution_count": null,
   "metadata": {},
   "outputs": [],
   "source": [
    "# Clip data\n",
    "ne_roads_clip = gpd.clip(ne_roads, country_boundary_us_sim)\n",
    "\n",
    "# Ignore missing/empty geometries\n",
    "ne_roads_clip = ne_roads_clip[~ne_roads_clip.is_empty]\n",
    "\n",
    "print(\"The clipped data have fewer line objects (represented by rows):\",\n",
    "      ne_roads_clip.shape, ne_roads.shape)"
   ]
  },
  {
   "cell_type": "code",
   "execution_count": null,
   "metadata": {},
   "outputs": [],
   "source": [
    "fig, (ax1, ax2) = plt.subplots(2, 1, figsize=(10, 10))\n",
    "\n",
    "ne_roads.plot(ax=ax1)\n",
    "ne_roads_clip.plot(ax=ax2)\n",
    "\n",
    "ax1.set_title(\"Unclipped roads\")\n",
    "ax2.set_title(\"Clipped roads\")\n",
    "\n",
    "ax1.set_axis_off()\n",
    "ax2.set_axis_off()\n",
    "\n",
    "plt.axis('equal')\n",
    "plt.show()"
   ]
  },
  {
   "cell_type": "code",
   "execution_count": null,
   "metadata": {},
   "outputs": [],
   "source": [
    "# Plot the data\n",
    "fig, ax = plt.subplots(figsize=(12, 8))\n",
    "\n",
    "country_boundary_us.plot(alpha=1,\n",
    "                         color=\"white\",\n",
    "                         edgecolor=\"black\",\n",
    "                         ax=ax)\n",
    "\n",
    "ne_roads_clip.plot(ax=ax)\n",
    "\n",
    "ax.set_axis_off()\n",
    "plt.axis('equal')\n",
    "plt.show()"
   ]
  },
  {
   "cell_type": "code",
   "execution_count": null,
   "metadata": {},
   "outputs": [],
   "source": [
    "fig, (ax1, ax2) = plt.subplots(2, 1, figsize=(10, 10))\n",
    "\n",
    "# Set a larger tolerance yields a blockier polygon\n",
    "country_boundary_us.simplify(2, preserve_topology=True).plot(ax=ax1)\n",
    "\n",
    "# Set  a larger tolerance yields a blockier polygon\n",
    "country_boundary_us.simplify(.2, preserve_topology=True).plot(ax=ax2)\n",
    "\n",
    "ax1.set_title(\n",
    "    \"Data with a higher tolerance value will become visually blockier as there are fewer vertices\")\n",
    "ax2.set_title(\n",
    "    \"Data with a very low tolerance value will look smoother but will take longer to process\")\n",
    "\n",
    "ax1.set_axis_off()\n",
    "ax2.set_axis_off()\n",
    "plt.show()"
   ]
  },
  {
   "cell_type": "code",
   "execution_count": null,
   "metadata": {},
   "outputs": [],
   "source": [
    "# Plot the data by attribute\n",
    "fig, ax = plt.subplots(figsize=(12, 8))\n",
    "\n",
    "country_boundary_us.plot(alpha=1, \n",
    "                         color=\"white\", \n",
    "                         edgecolor=\"black\", \n",
    "                         ax=ax)\n",
    "\n",
    "ne_roads_clip.plot(ax=ax, \n",
    "                   column='type', \n",
    "                   legend=True)\n",
    "ax.set_axis_off()\n",
    "plt.axis('equal')\n",
    "plt.show()"
   ]
  },
  {
   "cell_type": "code",
   "execution_count": null,
   "metadata": {},
   "outputs": [],
   "source": [
    "# Plot with a custom legend\n",
    "\n",
    "# First, create a dictionary with the attributes of each legend item\n",
    "road_attrs = {'Beltway': ['black', 2],\n",
    "              'Secondary Highway': ['grey', .5],\n",
    "              'Road': ['grey', .5],\n",
    "              'Bypass': ['grey', .5],\n",
    "              'Ferry Route': ['grey', .5],\n",
    "              'Major Highway': ['black', 1]}\n",
    "\n",
    "# Plot the data\n",
    "fig, ax = plt.subplots(figsize=(12, 8))\n",
    "\n",
    "for ctype, data in ne_roads_clip.groupby('type'):\n",
    "    data.plot(color=road_attrs[ctype][0],\n",
    "              label=ctype,\n",
    "              ax=ax,\n",
    "              linewidth=road_attrs[ctype][1])\n",
    "\n",
    "country_boundary_us.plot(alpha=1, color=\"white\", edgecolor=\"black\", ax=ax)\n",
    "\n",
    "ax.legend(frameon=False, \n",
    "          loc = (0.1, -0.1))\n",
    "\n",
    "ax.set_title(\"United States Roads by Type\", fontsize=25)\n",
    "ax.set_axis_off()\n",
    "\n",
    "plt.axis('equal')\n",
    "plt.show()"
   ]
  },
  {
   "cell_type": "code",
   "execution_count": null,
   "metadata": {},
   "outputs": [],
   "source": []
  }
 ],
 "metadata": {
  "language_info": {
   "name": "python"
  }
 },
 "nbformat": 4,
 "nbformat_minor": 2
}
