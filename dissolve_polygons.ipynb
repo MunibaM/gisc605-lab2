{
 "cells": [
  {
   "cell_type": "code",
   "execution_count": 1,
   "metadata": {},
   "outputs": [
    {
     "ename": "ModuleNotFoundError",
     "evalue": "No module named 'shapely'",
     "output_type": "error",
     "traceback": [
      "\u001b[0;31m---------------------------------------------------------------------------\u001b[0m",
      "\u001b[0;31mModuleNotFoundError\u001b[0m                       Traceback (most recent call last)",
      "Cell \u001b[0;32mIn[1], line 8\u001b[0m\n\u001b[1;32m      6\u001b[0m \u001b[38;5;28;01mfrom\u001b[39;00m \u001b[38;5;21;01mmatplotlib\u001b[39;00m\u001b[38;5;21;01m.\u001b[39;00m\u001b[38;5;21;01mcolors\u001b[39;00m \u001b[38;5;28;01mimport\u001b[39;00m ListedColormap\n\u001b[1;32m      7\u001b[0m \u001b[38;5;28;01mimport\u001b[39;00m \u001b[38;5;21;01mseaborn\u001b[39;00m \u001b[38;5;28;01mas\u001b[39;00m \u001b[38;5;21;01msns\u001b[39;00m\n\u001b[0;32m----> 8\u001b[0m \u001b[38;5;28;01mfrom\u001b[39;00m \u001b[38;5;21;01mshapely\u001b[39;00m\u001b[38;5;21;01m.\u001b[39;00m\u001b[38;5;21;01mgeometry\u001b[39;00m \u001b[38;5;28;01mimport\u001b[39;00m box\n\u001b[1;32m      9\u001b[0m \u001b[38;5;28;01mimport\u001b[39;00m \u001b[38;5;21;01mgeopandas\u001b[39;00m \u001b[38;5;28;01mas\u001b[39;00m \u001b[38;5;21;01mgpd\u001b[39;00m\n\u001b[1;32m     10\u001b[0m \u001b[38;5;28;01mimport\u001b[39;00m \u001b[38;5;21;01mearthpy\u001b[39;00m \u001b[38;5;28;01mas\u001b[39;00m \u001b[38;5;21;01met\u001b[39;00m\n",
      "\u001b[0;31mModuleNotFoundError\u001b[0m: No module named 'shapely'"
     ]
    }
   ],
   "source": [
    "# Import libraries\n",
    "import os\n",
    "import numpy as np\n",
    "import matplotlib.pyplot as plt\n",
    "import matplotlib.lines as mlines\n",
    "from matplotlib.colors import ListedColormap\n",
    "import seaborn as sns\n",
    "from shapely.geometry import box\n",
    "import geopandas as gpd\n",
    "import earthpy as et\n",
    "\n",
    "# Adjust plot font sizes\n",
    "sns.set(font_scale=1.5)\n",
    "sns.set_style(\"white\")\n",
    "\n",
    "# Set working dir & get data\n",
    "data = et.data.get_data('spatial-vector-lidar')\n",
    "os.chdir(os.path.join(et.io.HOME, 'earth-analytics'))"
   ]
  },
  {
   "cell_type": "code",
   "execution_count": null,
   "metadata": {},
   "outputs": [],
   "source": [
    "# Define base path as it is repeated below\n",
    "base_path = os.path.join(\"data\", \"spatial-vector-lidar\")\n",
    "\n",
    "# Define file paths\n",
    "country_boundary_path = os.path.join(base_path, \"usa\", \n",
    "                                     \"usa-boundary-dissolved.shp\")\n",
    "\n",
    "state_boundary_path = os.path.join(base_path, \"usa\", \n",
    "                                   \"usa-states-census-2014.shp\")\n",
    "\n",
    "pop_places_path = os.path.join(base_path, \"global\", \"ne_110m_populated_places_simple\", \n",
    "                               \"ne_110m_populated_places_simple.shp\")\n",
    "\n",
    "# Import the data\n",
    "country_boundary_us = gpd.read_file(country_boundary_path)\n",
    "state_boundary_us = gpd.read_file(state_boundary_path)\n",
    "pop_places = gpd.read_file(pop_places_path)"
   ]
  },
  {
   "cell_type": "code",
   "execution_count": null,
   "metadata": {},
   "outputs": [],
   "source": [
    "state_boundary_us.head()"
   ]
  },
  {
   "cell_type": "code",
   "execution_count": null,
   "metadata": {},
   "outputs": [],
   "source": [
    "state_boundary_us.geom_type.head()"
   ]
  },
  {
   "cell_type": "code",
   "execution_count": null,
   "metadata": {},
   "outputs": [],
   "source": [
    "state_boundary = state_boundary_us[['LSAD', 'geometry']]\n",
    "cont_usa = state_boundary.dissolve(by='LSAD')\n",
    "\n",
    "# View the resulting geodataframe\n",
    "cont_usa"
   ]
  },
  {
   "cell_type": "code",
   "execution_count": null,
   "metadata": {},
   "outputs": [],
   "source": [
    "cont_usa.reset_index()"
   ]
  },
  {
   "cell_type": "code",
   "execution_count": null,
   "metadata": {},
   "outputs": [],
   "source": [
    "# Plot the data\n",
    "fig, ax = plt.subplots(figsize=(10, 6))\n",
    "cont_usa.reset_index().plot(column='LSAD',\n",
    "                            ax=ax)\n",
    "ax.set_axis_off()\n",
    "plt.axis('equal')\n",
    "plt.show() "
   ]
  },
  {
   "cell_type": "code",
   "execution_count": null,
   "metadata": {},
   "outputs": [],
   "source": [
    "# Select the columns that you wish to retain in the data\n",
    "state_boundary = state_boundary_us[['region', 'geometry', 'ALAND', 'AWATER']]\n",
    "\n",
    "# Then summarize the quantative columns by 'sum'\n",
    "regions_agg = state_boundary.dissolve(by='region', aggfunc='sum')\n",
    "regions_agg"
   ]
  },
  {
   "cell_type": "code",
   "execution_count": null,
   "metadata": {},
   "outputs": [],
   "source": [
    "# Convert area units from square meters to hectares (divide by 10,000)\n",
    "regions_agg[\"land_ha\"] = regions_agg[\"ALAND\"] / 10000\n",
    "regions_agg[\"water_ha\"] = regions_agg[\"AWATER\"] / 10000\n",
    "regions_agg"
   ]
  },
  {
   "cell_type": "code",
   "execution_count": null,
   "metadata": {},
   "outputs": [],
   "source": [
    "fig, (ax1, ax2) = plt.subplots(2, 1, figsize=(10, 10))\n",
    "\n",
    "regions_agg.plot(column='land_ha',\n",
    "                 legend=True,\n",
    "                 scheme=\"quantiles\",\n",
    "                 ax=ax1)\n",
    "\n",
    "regions_agg.plot(column='water_ha',\n",
    "                 scheme=\"quantiles\",\n",
    "                 legend=True,\n",
    "                 ax=ax2)\n",
    "\n",
    "plt.suptitle('Census Data - Total Land and Water by Region (Hectares)', fontsize=16)\n",
    "leg = ax1.get_legend()\n",
    "leg.set_bbox_to_anchor((1.5,1))\n",
    "\n",
    "leg = ax2.get_legend()\n",
    "leg.set_bbox_to_anchor((1.5,1))\n",
    "ax1.set_axis_off()\n",
    "ax2.set_axis_off()\n",
    "\n",
    "plt.axis('equal')\n",
    "plt.show()"
   ]
  },
  {
   "cell_type": "code",
   "execution_count": null,
   "metadata": {},
   "outputs": [],
   "source": []
  }
 ],
 "metadata": {
  "kernelspec": {
   "display_name": "Python 3",
   "language": "python",
   "name": "python3"
  },
  "language_info": {
   "codemirror_mode": {
    "name": "ipython",
    "version": 3
   },
   "file_extension": ".py",
   "mimetype": "text/x-python",
   "name": "python",
   "nbconvert_exporter": "python",
   "pygments_lexer": "ipython3",
   "version": "3.10.13"
  }
 },
 "nbformat": 4,
 "nbformat_minor": 2
}
