{
 "cells": [
  {
   "cell_type": "code",
   "execution_count": null,
   "metadata": {},
   "outputs": [],
   "source": [
    "import os\n",
    "import numpy as np\n",
    "import matplotlib.pyplot as plt\n",
    "import pandas as pd\n",
    "import geopandas as gpd\n",
    "from shapely.geometry import Point\n",
    "import earthpy as et\n",
    "\n",
    "# Set working dir & get data\n",
    "data = et.data.get_data('spatial-vector-lidar')\n",
    "os.chdir(os.path.join(et.io.HOME, 'earth-analytics'))"
   ]
  },
  {
   "cell_type": "code",
   "execution_count": null,
   "metadata": {},
   "outputs": [],
   "source": [
    "# Import world boundary shapefile\n",
    "worldBound_path = os.path.join(\"data\", \"spatial-vector-lidar\", \"global\", \n",
    "                               \"ne_110m_land\", \"ne_110m_land.shp\")\n",
    "worldBound = gpd.read_file(worldBound_path)\n",
    "\n",
    "worldBound.crs"
   ]
  },
  {
   "cell_type": "code",
   "execution_count": null,
   "metadata": {},
   "outputs": [],
   "source": [
    "# Create a numpy array with x,y location of Boulder\n",
    "boulder_xy = np.array([[476911.31, 4429455.35]])\n",
    "\n",
    "# Create shapely point object\n",
    "boulder_xy_pt = [Point(xy) for xy in boulder_xy]\n",
    "\n",
    "# Convert to spatial dataframe - geodataframe -- assign the CRS using epsg code\n",
    "boulder_loc = gpd.GeoDataFrame(boulder_xy_pt,\n",
    "                               columns=['geometry'],\n",
    "                               crs={'init': 'epsg:2957'})\n",
    "\n",
    "# View crs of new spatial points object\n",
    "boulder_loc.crs"
   ]
  },
  {
   "cell_type": "code",
   "execution_count": null,
   "metadata": {},
   "outputs": [],
   "source": []
  }
 ],
 "metadata": {
  "language_info": {
   "name": "python"
  }
 },
 "nbformat": 4,
 "nbformat_minor": 2
}
